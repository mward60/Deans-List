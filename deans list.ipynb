{
 "cells": [
  {
   "cell_type": "code",
   "execution_count": 2,
   "id": "143e2b87",
   "metadata": {},
   "outputs": [
    {
     "name": "stdout",
     "output_type": "stream",
     "text": [
      "Enter student's last name (or ZZZ to quit): Ward\n",
      "Enter student's first name: Megen\n",
      "Enter student's GPA: 6\n",
      "Megen Ward has made the Dean's List!\n",
      "Enter student's last name (or ZZZ to quit): Schmitt\n",
      "Enter student's first name: Kane\n",
      "Enter student's GPA: 3\n",
      "Kane Schmitt did not qualify for the Dean's List or Honor Roll.\n",
      "Enter student's last name (or ZZZ to quit): Schmitt\n",
      "Enter student's first name: Devin\n",
      "Enter student's GPA: 3\n",
      "Devin Schmitt did not qualify for the Dean's List or Honor Roll.\n",
      "Enter student's last name (or ZZZ to quit): Ward\n",
      "Enter student's first name: Jaxson\n",
      "Enter student's GPA: 4\n",
      "Jaxson Ward has made the Dean's List!\n",
      "Enter student's last name (or ZZZ to quit): Kane\n",
      "Enter student's first name: Schmitt\n",
      "Enter student's GPA: 6\n",
      "Schmitt Kane has made the Dean's List!\n",
      "Enter student's last name (or ZZZ to quit): Schmitt\n",
      "Enter student's first name: Devin\n",
      "Enter student's GPA: 7\n",
      "Devin Schmitt has made the Dean's List!\n",
      "Enter student's last name (or ZZZ to quit): ZZZ\n"
     ]
    }
   ],
   "source": [
    "#Megen Ward\n",
    "#Deans List\n",
    "#app that allows user to enter students first and last names as well as their GPAs.\n",
    "while True:\n",
    "    lastName = input(\"Enter student's last name (or ZZZ to quit): \")\n",
    "    if lastName == 'ZZZ':\n",
    "        break\n",
    "\n",
    "    firstName = input(\"Enter student's first name: \")\n",
    "    gpa = float(input(\"Enter student's GPA: \"))\n",
    "\n",
    "    if gpa >= 3.5:\n",
    "        print(f\"{firstName} {lastName} has made the Dean's List!\")\n",
    "    elif gpa >= 3.25:\n",
    "        print(f\"{firstName} {lastName} has made the Honor Roll!\")\n",
    "    else:\n",
    "        print(f\"{firstName} {lastName} did not qualify for the Dean's List or Honor Roll.\")"
   ]
  },
  {
   "cell_type": "code",
   "execution_count": null,
   "id": "b0fa5d2b",
   "metadata": {},
   "outputs": [],
   "source": []
  },
  {
   "cell_type": "code",
   "execution_count": null,
   "id": "43a72278",
   "metadata": {},
   "outputs": [],
   "source": []
  },
  {
   "cell_type": "code",
   "execution_count": null,
   "id": "050b151d",
   "metadata": {},
   "outputs": [],
   "source": []
  }
 ],
 "metadata": {
  "kernelspec": {
   "display_name": "Python 3 (ipykernel)",
   "language": "python",
   "name": "python3"
  },
  "language_info": {
   "codemirror_mode": {
    "name": "ipython",
    "version": 3
   },
   "file_extension": ".py",
   "mimetype": "text/x-python",
   "name": "python",
   "nbconvert_exporter": "python",
   "pygments_lexer": "ipython3",
   "version": "3.9.13"
  }
 },
 "nbformat": 4,
 "nbformat_minor": 5
}
